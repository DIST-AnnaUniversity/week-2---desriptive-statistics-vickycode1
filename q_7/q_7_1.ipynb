{
  "nbformat": 4,
  "nbformat_minor": 0,
  "metadata": {
    "colab": {
      "provenance": [],
      "collapsed_sections": []
    },
    "kernelspec": {
      "name": "python3",
      "display_name": "Python 3"
    },
    "language_info": {
      "name": "python"
    }
  },
  "cells": [
    {
      "cell_type": "markdown",
      "source": [
        "Data set\n"
      ],
      "metadata": {
        "id": "vH01qOArYOKy"
      }
    },
    {
      "cell_type": "markdown",
      "source": [
        "Apply the measure of central tendency\n",
        "q_7_1"
      ],
      "metadata": {
        "id": "Yep_fdFgYUWH"
      }
    },
    {
      "cell_type": "markdown",
      "source": [
        "Mean"
      ],
      "metadata": {
        "id": "XNMV-rNgYsR0"
      }
    },
    {
      "cell_type": "code",
      "source": [
        "import pandas as p\n",
        "data = p.read_csv(\"India-Tourism-Statistics-2021-Table-2.1.1.csv\")\n",
        "print('Shape',data.shape)\n",
        "print(data[\"Percentage (%) change over previous year\"].mean())"
      ],
      "metadata": {
        "colab": {
          "base_uri": "https://localhost:8080/"
        },
        "id": "xvSUsGyhYfHB",
        "outputId": "e63b30f0-dde5-423a-9396-c4d71981005b"
      },
      "execution_count": 1,
      "outputs": [
        {
          "output_type": "stream",
          "name": "stdout",
          "text": [
            "Shape (22, 11)\n",
            "3.5227272727272716\n"
          ]
        }
      ]
    },
    {
      "cell_type": "markdown",
      "source": [
        "Median"
      ],
      "metadata": {
        "id": "uCH2twZcYxTk"
      }
    },
    {
      "cell_type": "code",
      "source": [
        "print(data[\"Percentage (%) change over previous year\"].median())"
      ],
      "metadata": {
        "colab": {
          "base_uri": "https://localhost:8080/"
        },
        "id": "hHbsnejBYyrq",
        "outputId": "807bd19a-cd1c-4247-c585-c106ffec50e3"
      },
      "execution_count": 2,
      "outputs": [
        {
          "output_type": "stream",
          "name": "stdout",
          "text": [
            "5.550000000000001\n"
          ]
        }
      ]
    },
    {
      "cell_type": "markdown",
      "source": [
        "Mode"
      ],
      "metadata": {
        "id": "J29jWABfY9bV"
      }
    },
    {
      "cell_type": "code",
      "source": [
        "a=p.DataFrame(data)\n",
        "print(a[\"FTAs in India (in Million)\"].mode())"
      ],
      "metadata": {
        "colab": {
          "base_uri": "https://localhost:8080/"
        },
        "id": "A-xSQaF6Y-cu",
        "outputId": "5b6e981c-8172-40d2-dd90-2f9daeb0507f"
      },
      "execution_count": 3,
      "outputs": [
        {
          "output_type": "stream",
          "name": "stdout",
          "text": [
            "0      1.28\n",
            "1      1.68\n",
            "2      2.38\n",
            "3      2.54\n",
            "4      2.73\n",
            "5      2.74\n",
            "6      3.46\n",
            "7      3.92\n",
            "8      4.45\n",
            "9      5.08\n",
            "10     5.17\n",
            "11     5.28\n",
            "12     5.78\n",
            "13     6.31\n",
            "14     6.58\n",
            "15     6.97\n",
            "16     7.68\n",
            "17     8.03\n",
            "18     8.80\n",
            "19    10.04\n",
            "20    10.56\n",
            "21    10.93\n",
            "dtype: float64\n"
          ]
        }
      ]
    }
  ]
}