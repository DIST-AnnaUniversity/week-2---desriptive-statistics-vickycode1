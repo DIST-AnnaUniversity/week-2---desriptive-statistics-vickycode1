{
 "cells": [
  {
   "cell_type": "markdown",
   "id": "825daded",
   "metadata": {},
   "source": [
    "<h1>Use the following information to answer the next three exercises: We are interested in the number of years students in a particular elementary statistics class have lived in California. The information in the following table is from the entire section.<br>Find IQR</h1>"
   ]
  },
  {
   "cell_type": "code",
   "execution_count": 3,
   "id": "8bfcb2d8",
   "metadata": {},
   "outputs": [
    {
     "name": "stdout",
     "output_type": "stream",
     "text": [
      "The IQR is 8.0\n"
     ]
    }
   ],
   "source": [
    "import numpy as npy\n",
    "data = [7,14,14,14,15,18,19,19,19,19,20,20,20,22,23,26,40,40,42,42]\n",
    "data.sort()\n",
    "n = len(data)\n",
    "ran = n/2\n",
    "q1 = npy.median(data[:10])\n",
    "q3 = npy.median(data[10:])\n",
    "iqr = q3-q1\n",
    "print('The IQR is',iqr)"
   ]
  },
  {
   "cell_type": "code",
   "execution_count": null,
   "id": "e454b714",
   "metadata": {},
   "outputs": [],
   "source": []
  }
 ],
 "metadata": {
  "kernelspec": {
   "display_name": "Python 3 (ipykernel)",
   "language": "python",
   "name": "python3"
  },
  "language_info": {
   "codemirror_mode": {
    "name": "ipython",
    "version": 3
   },
   "file_extension": ".py",
   "mimetype": "text/x-python",
   "name": "python",
   "nbconvert_exporter": "python",
   "pygments_lexer": "ipython3",
   "version": "3.9.12"
  }
 },
 "nbformat": 4,
 "nbformat_minor": 5
}
