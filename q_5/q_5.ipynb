{
 "cells": [
  {
   "cell_type": "markdown",
   "id": "3325edfd",
   "metadata": {},
   "source": [
    "<h1>Use the following information to answer the next three exercises: We are interested in the number of years students in a particular elementary statistics class have lived in California. The information in the following table is from the entire section.<br>Calculate Mode</h1>"
   ]
  },
  {
   "cell_type": "code",
   "execution_count": 6,
   "id": "35f8b722",
   "metadata": {},
   "outputs": [
    {
     "name": "stdout",
     "output_type": "stream",
     "text": [
      "Mode is [19]\n"
     ]
    }
   ],
   "source": [
    "from scipy import stats\n",
    "a = [7,14,14,14,15,18,19,19,19,19,20,20,20,22,23,26,40,40,42,42]\n",
    "m = stats.mode(a)\n",
    "print('Mode is',m[0])"
   ]
  },
  {
   "cell_type": "code",
   "execution_count": null,
   "id": "0fe7e03f",
   "metadata": {},
   "outputs": [],
   "source": []
  }
 ],
 "metadata": {
  "kernelspec": {
   "display_name": "Python 3 (ipykernel)",
   "language": "python",
   "name": "python3"
  },
  "language_info": {
   "codemirror_mode": {
    "name": "ipython",
    "version": 3
   },
   "file_extension": ".py",
   "mimetype": "text/x-python",
   "name": "python",
   "nbconvert_exporter": "python",
   "pygments_lexer": "ipython3",
   "version": "3.9.12"
  }
 },
 "nbformat": 4,
 "nbformat_minor": 5
}
